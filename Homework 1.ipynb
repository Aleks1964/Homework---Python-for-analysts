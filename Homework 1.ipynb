{
 "cells": [
  {
   "cell_type": "markdown",
   "id": "75ff1489",
   "metadata": {},
   "source": [
    "## Условие 1\n",
    "\n",
    "Оформляйте ноутбук, используя эти советы:\n",
    "- Номер задачи - заголовок 2;\n",
    "- Номер подзадачи - заголовок 3;\n",
    "- Предоставленные наборы данных оформляйте, как код."
   ]
  },
  {
   "cell_type": "markdown",
   "id": "ce77d37a",
   "metadata": {},
   "source": [
    "## Условие 2\n",
    "\n",
    "На складе лежат разные фрукты в разном количестве.\n",
    "\n",
    "Нужно написать функцию, которая на вход принимает любое количество названий фруктов и их количество, а возвращает общее количество фруктов на складе."
   ]
  },
  {
   "cell_type": "code",
   "execution_count": 3,
   "id": "cb3a1584",
   "metadata": {
    "scrolled": false
   },
   "outputs": [
    {
     "data": {
      "text/plain": [
       "263"
      ]
     },
     "execution_count": 3,
     "metadata": {},
     "output_type": "execute_result"
    }
   ],
   "source": [
    "def sum_weight(lst):\n",
    "    sum_w=0\n",
    "    for i in fruits_weight.values():\n",
    "        sum_w=sum_w+i\n",
    "    return sum_w\n",
    "\n",
    "fruits_weight = {\"яблоки\": 59, \"груши\": 25, \"бананы\": 101, \"сливы\": 45, \"клубника\": 33}\n",
    "\n",
    "sum_weight(fruits_weight)"
   ]
  },
  {
   "cell_type": "markdown",
   "id": "44d320a8",
   "metadata": {},
   "source": [
    "## Условие 3\n",
    "\n",
    "Дан список с затратами на рекламу. Но в данных есть ошибки, некоторые затраты имеют отрицательную величину.\n",
    "Удалите такие значения из списка и посчитайте суммарные затраты."
   ]
  },
  {
   "cell_type": "code",
   "execution_count": null,
   "id": "1a268041",
   "metadata": {},
   "outputs": [],
   "source": [
    "[100, 125, -90, 345, 655, -1, 0, 200]"
   ]
  },
  {
   "cell_type": "markdown",
   "id": "b8d3160b",
   "metadata": {},
   "source": [
    "**_Используйте list comprehensions_**"
   ]
  },
  {
   "cell_type": "code",
   "execution_count": 4,
   "id": "9945ec91",
   "metadata": {},
   "outputs": [
    {
     "name": "stdout",
     "output_type": "stream",
     "text": [
      "1425\n"
     ]
    }
   ],
   "source": [
    "def remove_negative_values(lst):\n",
    "    return [x for x in lst if x > 0]\n",
    "\n",
    "costs_reclam = [100, 125, -90, 345, 655, -1, 0, 200]\n",
    "\n",
    "total_cost = sum([x for x in costs_reclam if x >= 0])\n",
    "print(total_cost)"
   ]
  },
  {
   "cell_type": "markdown",
   "id": "71690747",
   "metadata": {},
   "source": [
    "### Условие 4\n",
    "\n",
    "Даны два списка.\n",
    "\n",
    "Дата покупки:"
   ]
  },
  {
   "cell_type": "code",
   "execution_count": null,
   "id": "8921e6b6",
   "metadata": {},
   "outputs": [],
   "source": [
    "['2021-09-14', '2021-12-15', '2021-09-08', '2021-12-05', '2021-10-09', '2021-09-30', '2021-12-22', '2021-11-29', '2021-12-24', '2021-11-26', '2021-10-27', '2021-12-18', '2021-11-09', '2021-11-23', '2021-09-27', '2021-10-02', '2021-12-27', '2021-09-20', '2021-12-13', '2021-11-01', '2021-11-09', '2021-12-06', '2021-12-08', '2021-10-09', '2021-10-31', '2021-09-30', '2021-11-09', '2021-12-13', '2021-10-26', '2021-12-09']"
   ]
  },
  {
   "cell_type": "markdown",
   "id": "f820e2ab",
   "metadata": {},
   "source": [
    "Суммы покупок по датам:"
   ]
  },
  {
   "cell_type": "code",
   "execution_count": null,
   "id": "af4ef616",
   "metadata": {},
   "outputs": [],
   "source": [
    "[1270, 8413, 9028, 3703, 5739, 4095, 295, 4944, 5723, 3701, 4471, 651, 7037, 4274, 6275, 4988, 6930, 2971, 6592, 2004, 2822, 519, 3406, 2732, 5015, 2008, 316, 6333, 5700, 2887]"
   ]
  },
  {
   "cell_type": "markdown",
   "id": "e567dc9f",
   "metadata": {},
   "source": [
    "#### 4.1 Найдите, какая выручка у компании в ноябре\n",
    "\n",
    "**_Используйте list comprehensions_**"
   ]
  },
  {
   "cell_type": "code",
   "execution_count": 11,
   "id": "0c581bcc",
   "metadata": {},
   "outputs": [
    {
     "name": "stdout",
     "output_type": "stream",
     "text": [
      "Общая выручка за весь ноябрь: 25098 руб.\n"
     ]
    }
   ],
   "source": [
    "dates = ['2021-09-14', '2021-12-15', '2021-09-08', '2021-12-05', '2021-10-09', '2021-09-30', '2021-12-22', '2021-11-29', '2021-12-24', '2021-11-26', '2021-10-27', '2021-12-18', '2021-11-09', '2021-11-23', '2021-09-27', '2021-10-02', '2021-12-27', '2021-09-20', '2021-12-13', '2021-11-01', '2021-11-09', '2021-12-06', '2021-12-08', '2021-10-09', '2021-10-31', '2021-09-30', '2021-11-09', '2021-12-13', '2021-10-26', '2021-12-09']\n",
    "\n",
    "costs = [1270, 8413, 9028, 3703, 5739, 4095, 295, 4944, 5723, 3701, 4471, 651, 7037, 4274, 6275, 4988, 6930, 2971, 6592, 2004, 2822, 519, 3406, 2732, 5015, 2008, 316, 6333, 5700, 2887]\n",
    "\n",
    "# print(f'Даты ноября с выручкой: {sorted([dates[i][-2:] for i in range(0, len(dates)-1) if \"-11\" in dates[i]])}')\n",
    "# print(f'Суммы покупок по дням в ноябре: {[costs[i] for i in range(0, len(dates)-1) if \"-11\" in dates[i]]}')\n",
    "# print(dict(zip([dates[i] for i in range(0, len(dates)-1) if \"-11\" in dates[i]], [costs[i] for i in range(0, len(dates)-1) if \"-11\" in dates[i]])))\n",
    "# print('')\n",
    "print(f'Общая выручка за весь ноябрь: {sum([costs[i] for i in range(len(dates)-1) if \"-11\" in dates[i]])} руб.')"
   ]
  },
  {
   "cell_type": "markdown",
   "id": "c96268bd",
   "metadata": {},
   "source": [
    "#### 4.2 Найдите выручку компании в зависимости от месяца\n",
    "\n",
    "Для этого напишите функцию, которая на вход принимает список с датами и список с выручкой, а на выходе словарь, где ключи - это месяцы, а значения - это выручка.\n",
    "\n",
    "**_Используйте аннотирование типов_**"
   ]
  },
  {
   "cell_type": "code",
   "execution_count": 57,
   "id": "90000ee6",
   "metadata": {
    "scrolled": false
   },
   "outputs": [
    {
     "data": {
      "text/plain": [
       "{1: 0,\n",
       " 2: 0,\n",
       " 3: 0,\n",
       " 4: 0,\n",
       " 5: 0,\n",
       " 6: 0,\n",
       " 7: 0,\n",
       " 8: 0,\n",
       " 9: 25647,\n",
       " 10: 28645,\n",
       " 11: 25098,\n",
       " 12: 45452}"
      ]
     },
     "execution_count": 57,
     "metadata": {},
     "output_type": "execute_result"
    }
   ],
   "source": [
    "def get_month_numbers(dates: list, numbers: list) -> dict:\n",
    "    dates_1 = [dates[i][5:7] for i in range(0, len(dates))]\n",
    "    result = {}\n",
    "    for month in range(1, 13):\n",
    "        sum_numbers = 0\n",
    "        result[month] = sum([numbers[i] if int(dates_1[i]) == month else 0 for i in range(len(dates_1))])\n",
    "    return result\n",
    "\n",
    "get_month_numbers(dates, costs)"
   ]
  }
 ],
 "metadata": {
  "celltoolbar": "Необработанный формат ячейки",
  "kernelspec": {
   "display_name": "Python 3 (ipykernel)",
   "language": "python",
   "name": "python3"
  },
  "language_info": {
   "codemirror_mode": {
    "name": "ipython",
    "version": 3
   },
   "file_extension": ".py",
   "mimetype": "text/x-python",
   "name": "python",
   "nbconvert_exporter": "python",
   "pygments_lexer": "ipython3",
   "version": "3.11.3"
  }
 },
 "nbformat": 4,
 "nbformat_minor": 5
}
